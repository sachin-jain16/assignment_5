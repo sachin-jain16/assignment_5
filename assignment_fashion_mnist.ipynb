{
  "nbformat": 4,
  "nbformat_minor": 0,
  "metadata": {
    "colab": {
      "name": "assignment_fashion_mnist.ipynb",
      "version": "0.3.2",
      "provenance": [],
      "toc_visible": true
    },
    "language_info": {
      "codemirror_mode": {
        "name": "ipython",
        "version": 3
      },
      "file_extension": ".py",
      "mimetype": "text/x-python",
      "name": "python",
      "nbconvert_exporter": "python",
      "pygments_lexer": "ipython3",
      "version": "3.6.8"
    },
    "kernelspec": {
      "display_name": "Python 3",
      "language": "python",
      "name": "python3"
    }
  },
  "cells": [
    {
      "cell_type": "code",
      "metadata": {
        "id": "GIO_KgB8DyHx",
        "colab_type": "code",
        "colab": {}
      },
      "source": [
        ""
      ],
      "execution_count": 0,
      "outputs": []
    },
    {
      "cell_type": "markdown",
      "metadata": {
        "id": "OmUMNP0RjGdD",
        "colab_type": "text"
      },
      "source": [
        "**Dataset**\n",
        "\n",
        "Fashion MNIST Dataset\n",
        "\n",
        "**Steps**\n",
        "1)Data Augmentation\n",
        "2)Building CNN Model\n",
        "3) Adding layer of dropout(0.2) and batch normalization\n",
        "4) Adding layer of dropout(0.3) and batch normalization\n"
      ]
    },
    {
      "cell_type": "code",
      "metadata": {
        "id": "i9opxBBGEvGf",
        "colab_type": "code",
        "colab": {
          "resources": {
            "http://localhost:8080/nbextensions/google.colab/files.js": {
              "data": "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",
              "ok": true,
              "headers": [
                [
                  "content-type",
                  "application/javascript"
                ]
              ],
              "status": 200,
              "status_text": "OK"
            }
          },
          "base_uri": "https://localhost:8080/",
          "height": 152
        },
        "outputId": "6d17424e-3b59-49d2-e166-5de474c175a5"
      },
      "source": [
        "\n",
        "from google.colab import files\n",
        "files.upload()\n"
      ],
      "execution_count": 4,
      "outputs": [
        {
          "output_type": "display_data",
          "data": {
            "text/html": [
              "\n",
              "     <input type=\"file\" id=\"files-615a7f23-0325-4738-9765-3323d6307e86\" name=\"files[]\" multiple disabled />\n",
              "     <output id=\"result-615a7f23-0325-4738-9765-3323d6307e86\">\n",
              "      Upload widget is only available when the cell has been executed in the\n",
              "      current browser session. Please rerun this cell to enable.\n",
              "      </output>\n",
              "      <script src=\"/nbextensions/google.colab/files.js\"></script> "
            ],
            "text/plain": [
              "<IPython.core.display.HTML object>"
            ]
          },
          "metadata": {
            "tags": []
          }
        },
        {
          "output_type": "stream",
          "text": [
            "Saving train-images-idx3-ubyte to train-images-idx3-ubyte (1)\n",
            "Saving t10k-labels-idx1-ubyte to t10k-labels-idx1-ubyte\n",
            "Saving t10k-images-idx3-ubyte to t10k-images-idx3-ubyte\n"
          ],
          "name": "stdout"
        }
      ]
    },
    {
      "cell_type": "code",
      "metadata": {
        "id": "K4QUcKvmNlGU",
        "colab_type": "code",
        "colab": {
          "base_uri": "https://localhost:8080/",
          "height": 193
        },
        "outputId": "09a682ed-6871-4c67-9160-9ca172ce38e0"
      },
      "source": [
        "from keras.datasets import fashion_mnist\n",
        "\n",
        "(X_train, Y_train), (X_test, Y_test) = fashion_mnist.load_data()"
      ],
      "execution_count": 4,
      "outputs": [
        {
          "output_type": "stream",
          "text": [
            "Using TensorFlow backend.\n"
          ],
          "name": "stderr"
        },
        {
          "output_type": "stream",
          "text": [
            "Downloading data from http://fashion-mnist.s3-website.eu-central-1.amazonaws.com/train-labels-idx1-ubyte.gz\n",
            "32768/29515 [=================================] - 0s 4us/step\n",
            "Downloading data from http://fashion-mnist.s3-website.eu-central-1.amazonaws.com/train-images-idx3-ubyte.gz\n",
            "26427392/26421880 [==============================] - 2s 0us/step\n",
            "Downloading data from http://fashion-mnist.s3-website.eu-central-1.amazonaws.com/t10k-labels-idx1-ubyte.gz\n",
            "8192/5148 [===============================================] - 0s 0us/step\n",
            "Downloading data from http://fashion-mnist.s3-website.eu-central-1.amazonaws.com/t10k-images-idx3-ubyte.gz\n",
            "4423680/4422102 [==============================] - 1s 0us/step\n"
          ],
          "name": "stdout"
        }
      ]
    },
    {
      "cell_type": "code",
      "metadata": {
        "id": "gVRUF6rPE9Jq",
        "colab_type": "code",
        "colab": {}
      },
      "source": [
        "import numpy as np\n",
        "import cv2\n",
        "\n",
        "import matplotlib.pyplot as plt\n",
        "import gzip\n",
        "import matplotlib.pyplot as plt\n",
        "from mlxtend.data import loadlocal_mnist"
      ],
      "execution_count": 0,
      "outputs": []
    },
    {
      "cell_type": "code",
      "metadata": {
        "id": "O8Rb418CE94h",
        "colab_type": "code",
        "colab": {}
      },
      "source": [
        ""
      ],
      "execution_count": 0,
      "outputs": []
    },
    {
      "cell_type": "code",
      "metadata": {
        "id": "5wE038uvEAGr",
        "colab_type": "code",
        "colab": {}
      },
      "source": [
        ""
      ],
      "execution_count": 0,
      "outputs": []
    },
    {
      "cell_type": "code",
      "metadata": {
        "id": "FOz0xtyVDyH8",
        "colab_type": "code",
        "colab": {
          "base_uri": "https://localhost:8080/",
          "height": 121
        },
        "outputId": "99d53630-5477-43d7-9ca3-5c853566b9a8"
      },
      "source": [
        "print(\"X_train-shape:\",X_train.shape)\n",
        "print(\"X_test-shape:\",X_test.shape)\n",
        "print(\"Y_train-shape:\",Y_train.shape)\n",
        "print(\"Y_test-shape:\",Y_test.shape)\n",
        "m_train = X_train.shape[0]\n",
        "m_test = X_test.shape[0]\n",
        "print (\"Number of training examples: m_train = \" + str(m_train))\n",
        "print (\"Number of testing examples: m_test = \" + str(m_test))"
      ],
      "execution_count": 6,
      "outputs": [
        {
          "output_type": "stream",
          "text": [
            "X_train-shape: (60000, 28, 28)\n",
            "X_test-shape: (10000, 28, 28)\n",
            "Y_train-shape: (60000,)\n",
            "Y_test-shape: (10000,)\n",
            "Number of training examples: m_train = 60000\n",
            "Number of testing examples: m_test = 10000\n"
          ],
          "name": "stdout"
        }
      ]
    },
    {
      "cell_type": "code",
      "metadata": {
        "id": "ldxK5B69DyIF",
        "colab_type": "code",
        "colab": {
          "base_uri": "https://localhost:8080/",
          "height": 314
        },
        "outputId": "737c0dbf-12a9-4dd9-c11e-6cddd251d964"
      },
      "source": [
        "np.random.seed(0);\n",
        "indices = list(np.random.randint(m_train,size=9))\n",
        "print(indices)\n",
        "for i in range(len(indices)):\n",
        "    plt.subplot(3,3,i+1)\n",
        "    plt.imshow(X_train[indices[i]].reshape(28,28),interpolation='none' )\n",
        "    plt.title(\"Index {} Class {}\".format(indices[i], Y_train[indices[i]]))\n",
        "    plt.tight_layout()"
      ],
      "execution_count": 7,
      "outputs": [
        {
          "output_type": "stream",
          "text": [
            "[2732, 43567, 42613, 52416, 45891, 21243, 30403, 32103, 41993]\n"
          ],
          "name": "stdout"
        },
        {
          "output_type": "display_data",
          "data": {
            "image/png": "[encoded data removed]",
            "text/plain": [
              "<Figure size 432x288 with 9 Axes>"
            ]
          },
          "metadata": {
            "tags": []
          }
        }
      ]
    },
    {
      "cell_type": "code",
      "metadata": {
        "id": "tWT5yip5DyIO",
        "colab_type": "code",
        "colab": {}
      },
      "source": [
        ""
      ],
      "execution_count": 0,
      "outputs": []
    },
    {
      "cell_type": "code",
      "metadata": {
        "id": "TLvcYHjdDyIS",
        "colab_type": "code",
        "colab": {}
      },
      "source": [
        ""
      ],
      "execution_count": 0,
      "outputs": []
    },
    {
      "cell_type": "code",
      "metadata": {
        "id": "NaZd7jCcDyIX",
        "colab_type": "code",
        "colab": {}
      },
      "source": [
        "x_train=X_train.reshape(60000,28,28).copy()\n",
        "x_test=X_test.reshape(10000,28,28).copy()\n"
      ],
      "execution_count": 0,
      "outputs": []
    },
    {
      "cell_type": "code",
      "metadata": {
        "id": "BS8QEnNBDyIb",
        "colab_type": "code",
        "colab": {
          "base_uri": "https://localhost:8080/",
          "height": 52
        },
        "outputId": "46e3f558-2512-425b-c7ef-486a04f32b67"
      },
      "source": [
        "print(\"x_train-shape:\",x_train.shape)\n",
        "print(\"x_test-shape:\",x_test.shape)"
      ],
      "execution_count": 9,
      "outputs": [
        {
          "output_type": "stream",
          "text": [
            "x_train-shape: (60000, 28, 28)\n",
            "x_test-shape: (10000, 28, 28)\n"
          ],
          "name": "stdout"
        }
      ]
    },
    {
      "cell_type": "code",
      "metadata": {
        "id": "RW5i1TtjDyIi",
        "colab_type": "code",
        "colab": {}
      },
      "source": [
        "# function for fliping the image\n",
        "def data_augmentation(x_train):\n",
        "    x_train_aug = x_train\n",
        "    def flip_image(x_train):\n",
        "        x_flip =[]   \n",
        "        for i in range(len(x_train)):\n",
        "            flipped_img = np.fliplr(x_train[i])\n",
        "            x_flip.append(flipped_img)\n",
        "        return x_flip  \n",
        "\n",
        "\n",
        "# function for horizontal shifting\n",
        "    def horizontal_shift(x_train):\n",
        "        x_shift=[]\n",
        "        WIDTH =28\n",
        "        HEIGHT =28\n",
        "        for k in range(len(x_train)):\n",
        "            for j in range(WIDTH):\n",
        "                for i in range(HEIGHT):\n",
        "                    if i < HEIGHT -20:\n",
        "                        x_train[k][j][i] = x_train[k][j][i+20]\n",
        "                        x_shift.append(x_train[k])\n",
        "        return x_shift\n",
        "\n",
        "\n",
        "# function for adding random noise\n",
        "    def noise_(x_train):\n",
        "        m  = len(x_train)\n",
        "        HEIGHT = 28\n",
        "        WIDTH  =28\n",
        "        noise = np.random.randint( 5,size = (m, 28, 28), dtype = 'uint8')\n",
        "        for i in range(m):\n",
        "            for j in range(WIDTH):\n",
        "                for k in range(HEIGHT):\n",
        "                    if (x_train[i][j][k] <=250):\n",
        "                        x_train[i][j][k] += noise[i][j][k]\n",
        "        return x_train\n",
        "\n",
        "\n",
        "# function for rotating image\n",
        "    def image_rotation(x_train):\n",
        "        length,rows,cols = x_train.shape\n",
        "        rotate_image=[]\n",
        "        for i in range(length):\n",
        "            M = cv2.getRotationMatrix2D((cols/2,rows/2),90,1)\n",
        "            dst = cv2.warpAffine(x_train[i],M,(cols,rows))\n",
        "            rotate_image.append(dst)\n",
        "        return rotate_image\n",
        "\n",
        "# color shifting of the image\n",
        "    def color_shift(x_train):\n",
        "        color_contrast=[]\n",
        "        length,rows,columns =  x_train.shape\n",
        "        for k in range (length):\n",
        "            for i in range(28):\n",
        "                for j in range(28):\n",
        "                    x_train[k][i][j] = x_train[k][i][j]-8\n",
        "            color_contrast.append(x_train[k])             \n",
        "                    \n",
        "        return color_contrast\n",
        "    \n",
        "    #flip_data = flip_image(x_train)\n",
        "    #x_train_aug = np.vstack((x_train_aug,flip_data))\n",
        "    #h_shift    = horizontal\n",
        "    #x_train_aug= np.vstack((x_train_aug,h_shift))\n",
        "    #noise_data = noise_(x_train)\n",
        "    #x_train_aug= np.vstack((x_train_aug,noise_data))\n",
        "    rotate_image = image_rotation(x_train)\n",
        "    x_train_aug= np.vstack((x_train_aug,rotate_image))\n",
        "    #color_contrast = color_shift(x_train)\n",
        "    #x_train_aug= np.vstack((x_train_aug,color_contrast))\n",
        "    return x_train_aug"
      ],
      "execution_count": 0,
      "outputs": []
    },
    {
      "cell_type": "code",
      "metadata": {
        "id": "FNBxK2DcDyIm",
        "colab_type": "code",
        "colab": {
          "base_uri": "https://localhost:8080/",
          "height": 34
        },
        "outputId": "b50193dd-5855-4d69-9a27-f6c53b04b6b2"
      },
      "source": [
        "x_train_aug = data_augmentation(x_train)\n",
        "x_train_aug.shape"
      ],
      "execution_count": 11,
      "outputs": [
        {
          "output_type": "execute_result",
          "data": {
            "text/plain": [
              "(120000, 28, 28)"
            ]
          },
          "metadata": {
            "tags": []
          },
          "execution_count": 11
        }
      ]
    },
    {
      "cell_type": "code",
      "metadata": {
        "id": "Nam4B47yDyIu",
        "colab_type": "code",
        "colab": {}
      },
      "source": [
        "def y_augmentation(y_train):\n",
        "    y_list =np.array(Y_train).tolist()\n",
        "    #print(type(y_list))\n",
        "    num_of_transformations =int(len(x_train_aug)/len(x_train))\n",
        "    y_list = y_list*num_of_transformations\n",
        "    y_train = np.array(y_list)\n",
        "    y_one_hot = np.eye(10)[y_train]\n",
        "    y_one_hot\n",
        "    return y_one_hot\n",
        "   "
      ],
      "execution_count": 0,
      "outputs": []
    },
    {
      "cell_type": "code",
      "metadata": {
        "id": "pAq1dAscDyIz",
        "colab_type": "code",
        "colab": {
          "base_uri": "https://localhost:8080/",
          "height": 52
        },
        "outputId": "15a49bbf-52fa-48d5-bfc0-564f17e8b973"
      },
      "source": [
        "y_train = y_augmentation(Y_train)\n",
        "print(len(y_train))\n",
        "y_train.shape"
      ],
      "execution_count": 13,
      "outputs": [
        {
          "output_type": "stream",
          "text": [
            "120000\n"
          ],
          "name": "stdout"
        },
        {
          "output_type": "execute_result",
          "data": {
            "text/plain": [
              "(120000, 10)"
            ]
          },
          "metadata": {
            "tags": []
          },
          "execution_count": 13
        }
      ]
    },
    {
      "cell_type": "markdown",
      "metadata": {
        "id": "JKyxliMoDyI6",
        "colab_type": "text"
      },
      "source": [
        "# Building CNN model\n"
      ]
    },
    {
      "cell_type": "code",
      "metadata": {
        "id": "U1hG15RDDyI8",
        "colab_type": "code",
        "colab": {}
      },
      "source": [
        "import tensorflow as tf"
      ],
      "execution_count": 0,
      "outputs": []
    },
    {
      "cell_type": "code",
      "metadata": {
        "id": "o0tKQmrgDyJA",
        "colab_type": "code",
        "colab": {
          "base_uri": "https://localhost:8080/",
          "height": 34
        },
        "outputId": "1f1e54b7-60df-402c-e831-0f3ccfed55cf"
      },
      "source": [
        "train_X = x_train_aug.reshape(-1, 28, 28, 1)\n",
        "train_X.shape"
      ],
      "execution_count": 15,
      "outputs": [
        {
          "output_type": "execute_result",
          "data": {
            "text/plain": [
              "(120000, 28, 28, 1)"
            ]
          },
          "metadata": {
            "tags": []
          },
          "execution_count": 15
        }
      ]
    },
    {
      "cell_type": "code",
      "metadata": {
        "id": "P8uiLGNhDyJF",
        "colab_type": "code",
        "colab": {}
      },
      "source": [
        "n_classes = 10"
      ],
      "execution_count": 0,
      "outputs": []
    },
    {
      "cell_type": "code",
      "metadata": {
        "id": "Z_X_OqyTDyJJ",
        "colab_type": "code",
        "colab": {}
      },
      "source": [
        "\n",
        "x = tf.placeholder(\"float\", [None, 28,28,1])\n",
        "y = tf.placeholder(\"float\", [None, n_classes])\n",
        "training_iters = 200 \n",
        "learning_rate = 0.001 \n",
        "batch_size = 200"
      ],
      "execution_count": 0,
      "outputs": []
    },
    {
      "cell_type": "code",
      "metadata": {
        "id": "2xR_Wy9CDyJN",
        "colab_type": "code",
        "colab": {}
      },
      "source": [
        "def conv2d(x, W, b, strides=1):\n",
        "    # Conv2D wrapper, with bias and relu activation\n",
        "    x = tf.nn.conv2d(x, W, strides=[1, strides, strides, 1], padding='SAME')\n",
        "    x = tf.nn.bias_add(x, b)\n",
        "    return tf.nn.relu(x)\n",
        "def maxpool2d(x, k=2):\n",
        "    return tf.nn.max_pool(x, ksize=[1, k, k, 1], strides=[1, k, k, 1],padding='SAME')\n"
      ],
      "execution_count": 0,
      "outputs": []
    },
    {
      "cell_type": "code",
      "metadata": {
        "id": "h_93kR62DyJS",
        "colab_type": "code",
        "colab": {
          "base_uri": "https://localhost:8080/",
          "height": 173
        },
        "outputId": "2ed81467-f5e6-4d0b-845f-9ca6947d4e6a"
      },
      "source": [
        "weights = {\n",
        "    'wc1': tf.get_variable('W0', shape=(3,3,1,32), initializer=tf.contrib.layers.xavier_initializer()), \n",
        "    'wc2': tf.get_variable('W1', shape=(3,3,32,64), initializer=tf.contrib.layers.xavier_initializer()), \n",
        "    'wc3': tf.get_variable('W2', shape=(3,3,64,128), initializer=tf.contrib.layers.xavier_initializer()), \n",
        "    'wd1': tf.get_variable('W3', shape=(4*4*128,128), initializer=tf.contrib.layers.xavier_initializer()), \n",
        "    'out': tf.get_variable('W6', shape=(128,n_classes), initializer=tf.contrib.layers.xavier_initializer()), \n",
        "}\n",
        "biases = {\n",
        "    'bc1': tf.get_variable('B0', shape=(32), initializer=tf.contrib.layers.xavier_initializer()),\n",
        "    'bc2': tf.get_variable('B1', shape=(64), initializer=tf.contrib.layers.xavier_initializer()),\n",
        "    'bc3': tf.get_variable('B2', shape=(128), initializer=tf.contrib.layers.xavier_initializer()),\n",
        "    'bd1': tf.get_variable('B3', shape=(128), initializer=tf.contrib.layers.xavier_initializer()),\n",
        "    'out': tf.get_variable('B4', shape=(10), initializer=tf.contrib.layers.xavier_initializer()),\n",
        "}\n"
      ],
      "execution_count": 19,
      "outputs": [
        {
          "output_type": "stream",
          "text": [
            "WARNING: Logging before flag parsing goes to stderr.\n",
            "W0619 04:06:55.006191 139985517381504 lazy_loader.py:50] \n",
            "The TensorFlow contrib module will not be included in TensorFlow 2.0.\n",
            "For more information, please see:\n",
            "  * https://github.com/tensorflow/community/blob/master/rfcs/20180907-contrib-sunset.md\n",
            "  * https://github.com/tensorflow/addons\n",
            "  * https://github.com/tensorflow/io (for I/O related ops)\n",
            "If you depend on functionality not listed there, please file an issue.\n",
            "\n"
          ],
          "name": "stderr"
        }
      ]
    },
    {
      "cell_type": "code",
      "metadata": {
        "id": "-VxiG0iLDyJY",
        "colab_type": "code",
        "colab": {}
      },
      "source": [
        "x_aug = tf.cast(train_X,tf.float32)\n",
        "def conv_net(x, weights, biases):  \n",
        "\n",
        "    # here we call the conv2d function we had defined above and pass the input image x, weights wc1 and bias bc1.\n",
        "    conv1 = conv2d(x, weights['wc1'], biases['bc1'])\n",
        "    print(conv1.shape)\n",
        "    # Max Pooling (down-sampling), this chooses the max value from a 2*2 matrix window and outputs a 14*14 matrix.\n",
        "    conv1 = maxpool2d(conv1, k=2)\n",
        "    print(conv1.shape)\n",
        "\n",
        "    # Convolution Layer\n",
        "    # here we call the conv2d function we had defined above and pass the input image x, weights wc2 and bias bc2.\n",
        "    conv2 = conv2d(conv1, weights['wc2'], biases['bc2'])\n",
        "    print(conv2.shape)\n",
        "    # Max Pooling (down-sampling), this chooses the max value from a 2*2 matrix window and outputs a 7*7 matrix.\n",
        "    conv2 = maxpool2d(conv2, k=2)\n",
        "    print(conv2.shape)\n",
        "\n",
        "    conv3 = conv2d(conv2, weights['wc3'], biases['bc3'])\n",
        "    print(conv3.shape)\n",
        "    # Max Pooling (down-sampling), this chooses the max value from a 2*2 matrix window and outputs a 4*4.\n",
        "    conv3 = maxpool2d(conv3, k=2)\n",
        "    print(conv3.shape)\n",
        "\n",
        "\n",
        "    # Fully connected layer\n",
        "    # Reshape conv2 output to fit fully connected layer input\n",
        "    fc1 = tf.reshape(conv3, [-1, weights['wd1'].get_shape().as_list()[0]])\n",
        "    print(fc1.shape)\n",
        "    fc1 = tf.add(tf.matmul(fc1, weights['wd1']), biases['bd1'])\n",
        "    print(fc1.shape)\n",
        "    fc1 = tf.nn.relu(fc1)\n",
        "    print(fc1.shape)\n",
        "    # Output, class prediction\n",
        "    # finally we multiply the fully connected layer with the weights and add a bias term. \n",
        "    out = tf.add(tf.matmul(fc1, weights['out']), biases['out'])\n",
        "    return out\n"
      ],
      "execution_count": 0,
      "outputs": []
    },
    {
      "cell_type": "code",
      "metadata": {
        "id": "F9IxxEFoDyJb",
        "colab_type": "code",
        "colab": {
          "base_uri": "https://localhost:8080/",
          "height": 52
        },
        "outputId": "d582b542-f163-44b6-f214-8df84cb76914"
      },
      "source": [
        "#pred = conv_net(x_train_aug, weights, biases)\n",
        "print(x_aug)\n",
        "weights['wc1'].dtype\n",
        "biases[\"bc1\"].dtype"
      ],
      "execution_count": 21,
      "outputs": [
        {
          "output_type": "stream",
          "text": [
            "Tensor(\"Cast:0\", shape=(120000, 28, 28, 1), dtype=float32)\n"
          ],
          "name": "stdout"
        },
        {
          "output_type": "execute_result",
          "data": {
            "text/plain": [
              "tf.float32_ref"
            ]
          },
          "metadata": {
            "tags": []
          },
          "execution_count": 21
        }
      ]
    },
    {
      "cell_type": "code",
      "metadata": {
        "id": "Tu3xxJyeDyJg",
        "colab_type": "code",
        "colab": {
          "base_uri": "https://localhost:8080/",
          "height": 34
        },
        "outputId": "0e27c82a-dcb4-4cf2-cd95-e9b7a1983662"
      },
      "source": [
        "print(weights['wc1'])"
      ],
      "execution_count": 22,
      "outputs": [
        {
          "output_type": "stream",
          "text": [
            "<tf.Variable 'W0:0' shape=(3, 3, 1, 32) dtype=float32_ref>\n"
          ],
          "name": "stdout"
        }
      ]
    },
    {
      "cell_type": "code",
      "metadata": {
        "id": "xV70VZE-DyJm",
        "colab_type": "code",
        "colab": {
          "base_uri": "https://localhost:8080/",
          "height": 173
        },
        "outputId": "538db373-4d8e-4a84-8fdb-f239857e8909"
      },
      "source": [
        "pred = conv_net(x, weights, biases)\n"
      ],
      "execution_count": 23,
      "outputs": [
        {
          "output_type": "stream",
          "text": [
            "(?, 28, 28, 32)\n",
            "(?, 14, 14, 32)\n",
            "(?, 14, 14, 64)\n",
            "(?, 7, 7, 64)\n",
            "(?, 7, 7, 128)\n",
            "(?, 4, 4, 128)\n",
            "(?, 2048)\n",
            "(?, 128)\n",
            "(?, 128)\n"
          ],
          "name": "stdout"
        }
      ]
    },
    {
      "cell_type": "code",
      "metadata": {
        "id": "O5swp0gDDyJu",
        "colab_type": "code",
        "colab": {
          "base_uri": "https://localhost:8080/",
          "height": 176
        },
        "outputId": "e2965a83-13ad-4166-c41f-f34b6ba544c2"
      },
      "source": [
        "cost = tf.reduce_mean(tf.nn.softmax_cross_entropy_with_logits(logits=pred, labels=y))\n",
        "\n",
        "optimizer = tf.train.AdamOptimizer(learning_rate=learning_rate).minimize(cost)"
      ],
      "execution_count": 24,
      "outputs": [
        {
          "output_type": "stream",
          "text": [
            "W0619 04:07:31.172777 139985517381504 deprecation.py:323] From <ipython-input-24-e03b9e7a87b3>:1: softmax_cross_entropy_with_logits (from tensorflow.python.ops.nn_ops) is deprecated and will be removed in a future version.\n",
            "Instructions for updating:\n",
            "\n",
            "Future major versions of TensorFlow will allow gradients to flow\n",
            "into the labels input on backprop by default.\n",
            "\n",
            "See `tf.nn.softmax_cross_entropy_with_logits_v2`.\n",
            "\n"
          ],
          "name": "stderr"
        }
      ]
    },
    {
      "cell_type": "code",
      "metadata": {
        "id": "SIWP2_krDyJy",
        "colab_type": "code",
        "colab": {}
      },
      "source": [
        "#Here you check whether the index of the maximum value of the predicted image is equal to the actual labelled image. and both will be a column vector.\n",
        "correct_prediction = tf.equal(tf.argmax(pred, 1), tf.argmax(y, 1))\n",
        "\n",
        "#calculate accuracy across all the given images and average them out. \n",
        "accuracy = tf.reduce_mean(tf.cast(correct_prediction, tf.float32))"
      ],
      "execution_count": 0,
      "outputs": []
    },
    {
      "cell_type": "code",
      "metadata": {
        "id": "XrgiYL3kDyJ0",
        "colab_type": "code",
        "colab": {}
      },
      "source": [
        "# Initializing the variables\n",
        "init = tf.global_variables_initializer()"
      ],
      "execution_count": 0,
      "outputs": []
    },
    {
      "cell_type": "code",
      "metadata": {
        "id": "EQC95PAGDyJ2",
        "colab_type": "code",
        "colab": {
          "base_uri": "https://localhost:8080/",
          "height": 34
        },
        "outputId": "9321c2dd-8862-489f-a99d-6f02af444f82"
      },
      "source": [
        "m = int(len(x_train_aug)/batch_size)\n",
        "print(m)"
      ],
      "execution_count": 27,
      "outputs": [
        {
          "output_type": "stream",
          "text": [
            "600\n"
          ],
          "name": "stdout"
        }
      ]
    },
    {
      "cell_type": "code",
      "metadata": {
        "id": "q6pvZ0-wa8Fu",
        "colab_type": "code",
        "colab": {
          "base_uri": "https://localhost:8080/",
          "height": 34
        },
        "outputId": "454d224a-c051-4221-d757-4c2e23531949"
      },
      "source": [
        "x_test = X_test.reshape(-1, 28, 28, 1)\n",
        "x_test.shape"
      ],
      "execution_count": 28,
      "outputs": [
        {
          "output_type": "execute_result",
          "data": {
            "text/plain": [
              "(10000, 28, 28, 1)"
            ]
          },
          "metadata": {
            "tags": []
          },
          "execution_count": 28
        }
      ]
    },
    {
      "cell_type": "code",
      "metadata": {
        "id": "WO6pzdxucZU9",
        "colab_type": "code",
        "colab": {
          "base_uri": "https://localhost:8080/",
          "height": 34
        },
        "outputId": "8542c6d3-7c00-45a4-cb34-c9fef019aaf4"
      },
      "source": [
        "y_test = np.eye(10)[Y_test]\n",
        "y_test.shape"
      ],
      "execution_count": 29,
      "outputs": [
        {
          "output_type": "execute_result",
          "data": {
            "text/plain": [
              "(10000, 10)"
            ]
          },
          "metadata": {
            "tags": []
          },
          "execution_count": 29
        }
      ]
    },
    {
      "cell_type": "code",
      "metadata": {
        "id": "_ybLc5KbDyJ8",
        "colab_type": "code",
        "colab": {
          "base_uri": "https://localhost:8080/",
          "height": 3143
        },
        "outputId": "1dea7612-0a1d-4fef-c563-6555354b029a"
      },
      "source": [
        "iterations =60\n",
        "with tf.Session() as sess:\n",
        "    sess.run(init) \n",
        "    train_loss = []\n",
        "    test_loss = []\n",
        "    train_accuracy = []\n",
        "    test_accuracy = []\n",
        "    saver=tf.train.Saver()\n",
        "    initial =0\n",
        "    summary_writer = tf.summary.FileWriter('./Output', sess.graph)\n",
        "    \n",
        "    for i in range(iterations):\n",
        "        for batch in range(m):\n",
        "            batch_x = train_X[batch*batch_size:min((batch+1)*batch_size,len(train_X))]\n",
        "            batch_y = y_train[batch*batch_size:min((batch+1)*batch_size,len(y_train))]    \n",
        "            # Run optimization op (backprop).\n",
        "                # Calculate batch loss and accuracy\n",
        "            opt = sess.run(optimizer, feed_dict={x: batch_x,\n",
        "                                                              y: batch_y})\n",
        "            loss, acc = sess.run([cost, accuracy], feed_dict={x: batch_x,\n",
        "                                                              y: batch_y})\n",
        "        print(\"Iter \" + str(i) + \", Loss= \" + \\\n",
        "                      \"{:.6f}\".format(loss) + \", Training Accuracy= \" + \\\n",
        "                      \"{:.5f}\".format(acc))\n",
        "        print(\"Optimization Finished!\")\n",
        "        \n",
        "        loss_val,acc_val=sess.run([cost,accuracy],feed_dict={x:x_test,y:y_test})\n",
        "        if acc_val>initial:\n",
        "            print(\"accuracy:\",acc_val)\n",
        "            saver.save(sess,'./result')\n",
        "        \n",
        "\n",
        "        # Calculate accuracy for all 10000 mnist test images\n",
        "        #test_acc,valid_loss = sess.run([accuracy,cost], feed_dict={x: test_X,y : test_y})\n",
        "        #train_loss.append(loss)\n",
        "        #test_loss.append(valid_loss)\n",
        "        #train_accuracy.append(acc)\n",
        "        #test_accuracy.append(test_acc)\n",
        "        #print(\"Testing Accuracy:\",\"{:.5f}\".format(test_acc))\n",
        "    summary_writer.close()"
      ],
      "execution_count": 73,
      "outputs": [
        {
          "output_type": "stream",
          "text": [
            "Iter 0, Loss= 0.243933, Training Accuracy= 0.91500\n",
            "Optimization Finished!\n",
            "accuracy: 0.0769\n",
            "Iter 1, Loss= 0.226321, Training Accuracy= 0.91000\n",
            "Optimization Finished!\n",
            "accuracy: 0.1872\n",
            "Iter 2, Loss= 0.199301, Training Accuracy= 0.92000\n",
            "Optimization Finished!\n",
            "accuracy: 0.4707\n",
            "Iter 3, Loss= 0.181005, Training Accuracy= 0.93500\n",
            "Optimization Finished!\n",
            "accuracy: 0.6142\n",
            "Iter 4, Loss= 0.164195, Training Accuracy= 0.94000\n",
            "Optimization Finished!\n",
            "accuracy: 0.7302\n",
            "Iter 5, Loss= 0.141694, Training Accuracy= 0.95000\n",
            "Optimization Finished!\n",
            "accuracy: 0.7647\n",
            "Iter 6, Loss= 0.152926, Training Accuracy= 0.95500\n",
            "Optimization Finished!\n",
            "accuracy: 0.7574\n",
            "Iter 7, Loss= 0.148277, Training Accuracy= 0.95000\n",
            "Optimization Finished!\n",
            "accuracy: 0.793\n",
            "Iter 8, Loss= 0.115755, Training Accuracy= 0.95500\n",
            "Optimization Finished!\n",
            "accuracy: 0.8157\n",
            "Iter 9, Loss= 0.089433, Training Accuracy= 0.97000\n",
            "Optimization Finished!\n",
            "accuracy: 0.8053\n",
            "Iter 10, Loss= 0.101929, Training Accuracy= 0.95500\n",
            "Optimization Finished!\n",
            "accuracy: 0.8239\n",
            "Iter 11, Loss= 0.069429, Training Accuracy= 0.97000\n",
            "Optimization Finished!\n",
            "accuracy: 0.8398\n",
            "Iter 12, Loss= 0.060024, Training Accuracy= 0.97500\n",
            "Optimization Finished!\n",
            "accuracy: 0.8346\n",
            "Iter 13, Loss= 0.056944, Training Accuracy= 0.98500\n",
            "Optimization Finished!\n",
            "accuracy: 0.8265\n",
            "Iter 14, Loss= 0.047731, Training Accuracy= 0.99000\n",
            "Optimization Finished!\n",
            "accuracy: 0.8354\n",
            "Iter 15, Loss= 0.036513, Training Accuracy= 0.99000\n",
            "Optimization Finished!\n",
            "accuracy: 0.8345\n",
            "Iter 16, Loss= 0.043032, Training Accuracy= 0.98500\n",
            "Optimization Finished!\n",
            "accuracy: 0.8424\n",
            "Iter 17, Loss= 0.077587, Training Accuracy= 0.98000\n",
            "Optimization Finished!\n",
            "accuracy: 0.8091\n",
            "Iter 18, Loss= 0.065021, Training Accuracy= 0.97000\n",
            "Optimization Finished!\n",
            "accuracy: 0.8359\n",
            "Iter 19, Loss= 0.052576, Training Accuracy= 0.98000\n",
            "Optimization Finished!\n",
            "accuracy: 0.8335\n",
            "Iter 20, Loss= 0.037946, Training Accuracy= 0.99000\n",
            "Optimization Finished!\n",
            "accuracy: 0.8519\n",
            "Iter 21, Loss= 0.030404, Training Accuracy= 0.98500\n",
            "Optimization Finished!\n",
            "accuracy: 0.854\n",
            "Iter 22, Loss= 0.025290, Training Accuracy= 0.99500\n",
            "Optimization Finished!\n",
            "accuracy: 0.852\n",
            "Iter 23, Loss= 0.019937, Training Accuracy= 0.99500\n",
            "Optimization Finished!\n",
            "accuracy: 0.862\n",
            "Iter 24, Loss= 0.016217, Training Accuracy= 1.00000\n",
            "Optimization Finished!\n",
            "accuracy: 0.8681\n",
            "Iter 25, Loss= 0.014341, Training Accuracy= 0.99500\n",
            "Optimization Finished!\n",
            "accuracy: 0.8689\n",
            "Iter 26, Loss= 0.025903, Training Accuracy= 0.99000\n",
            "Optimization Finished!\n",
            "accuracy: 0.8435\n",
            "Iter 27, Loss= 0.015549, Training Accuracy= 1.00000\n",
            "Optimization Finished!\n",
            "accuracy: 0.8572\n",
            "Iter 28, Loss= 0.014616, Training Accuracy= 1.00000\n",
            "Optimization Finished!\n",
            "accuracy: 0.8608\n",
            "Iter 29, Loss= 0.045130, Training Accuracy= 0.98000\n",
            "Optimization Finished!\n",
            "accuracy: 0.8596\n",
            "Iter 30, Loss= 0.024535, Training Accuracy= 0.99000\n",
            "Optimization Finished!\n",
            "accuracy: 0.8639\n",
            "Iter 31, Loss= 0.011974, Training Accuracy= 1.00000\n",
            "Optimization Finished!\n",
            "accuracy: 0.8782\n",
            "Iter 32, Loss= 0.009575, Training Accuracy= 0.99500\n",
            "Optimization Finished!\n",
            "accuracy: 0.8737\n",
            "Iter 33, Loss= 0.007429, Training Accuracy= 1.00000\n",
            "Optimization Finished!\n",
            "accuracy: 0.8745\n",
            "Iter 34, Loss= 0.022473, Training Accuracy= 0.99000\n",
            "Optimization Finished!\n",
            "accuracy: 0.8615\n",
            "Iter 35, Loss= 0.005209, Training Accuracy= 1.00000\n",
            "Optimization Finished!\n",
            "accuracy: 0.8628\n",
            "Iter 36, Loss= 0.008566, Training Accuracy= 1.00000\n",
            "Optimization Finished!\n",
            "accuracy: 0.8709\n",
            "Iter 37, Loss= 0.009489, Training Accuracy= 1.00000\n",
            "Optimization Finished!\n",
            "accuracy: 0.879\n",
            "Iter 38, Loss= 0.005834, Training Accuracy= 1.00000\n",
            "Optimization Finished!\n",
            "accuracy: 0.8647\n",
            "Iter 39, Loss= 0.019980, Training Accuracy= 0.99500\n",
            "Optimization Finished!\n",
            "accuracy: 0.8672\n",
            "Iter 40, Loss= 0.004153, Training Accuracy= 1.00000\n",
            "Optimization Finished!\n",
            "accuracy: 0.8683\n",
            "Iter 41, Loss= 0.045606, Training Accuracy= 0.98500\n",
            "Optimization Finished!\n",
            "accuracy: 0.8575\n",
            "Iter 42, Loss= 0.023093, Training Accuracy= 0.99000\n",
            "Optimization Finished!\n",
            "accuracy: 0.8627\n",
            "Iter 43, Loss= 0.009507, Training Accuracy= 0.99500\n",
            "Optimization Finished!\n",
            "accuracy: 0.8734\n",
            "Iter 44, Loss= 0.007068, Training Accuracy= 0.99500\n",
            "Optimization Finished!\n",
            "accuracy: 0.8775\n",
            "Iter 45, Loss= 0.008182, Training Accuracy= 1.00000\n",
            "Optimization Finished!\n",
            "accuracy: 0.8672\n",
            "Iter 46, Loss= 0.011763, Training Accuracy= 0.99500\n",
            "Optimization Finished!\n",
            "accuracy: 0.8724\n",
            "Iter 47, Loss= 0.002966, Training Accuracy= 1.00000\n",
            "Optimization Finished!\n",
            "accuracy: 0.8721\n",
            "Iter 48, Loss= 0.004153, Training Accuracy= 1.00000\n",
            "Optimization Finished!\n",
            "accuracy: 0.8727\n",
            "Iter 49, Loss= 0.015643, Training Accuracy= 0.99500\n",
            "Optimization Finished!\n",
            "accuracy: 0.8614\n",
            "Iter 50, Loss= 0.004384, Training Accuracy= 1.00000\n",
            "Optimization Finished!\n",
            "accuracy: 0.8735\n",
            "Iter 51, Loss= 0.004726, Training Accuracy= 1.00000\n",
            "Optimization Finished!\n",
            "accuracy: 0.8759\n",
            "Iter 52, Loss= 0.021428, Training Accuracy= 0.99000\n",
            "Optimization Finished!\n",
            "accuracy: 0.873\n",
            "Iter 53, Loss= 0.005786, Training Accuracy= 1.00000\n",
            "Optimization Finished!\n",
            "accuracy: 0.8701\n",
            "Iter 54, Loss= 0.010914, Training Accuracy= 0.99500\n",
            "Optimization Finished!\n",
            "accuracy: 0.8783\n",
            "Iter 55, Loss= 0.003736, Training Accuracy= 1.00000\n",
            "Optimization Finished!\n",
            "accuracy: 0.8821\n",
            "Iter 56, Loss= 0.010293, Training Accuracy= 0.99500\n",
            "Optimization Finished!\n",
            "accuracy: 0.8772\n",
            "Iter 57, Loss= 0.017554, Training Accuracy= 0.99500\n",
            "Optimization Finished!\n",
            "accuracy: 0.8799\n",
            "Iter 58, Loss= 0.001787, Training Accuracy= 1.00000\n",
            "Optimization Finished!\n",
            "accuracy: 0.8776\n",
            "Iter 59, Loss= 0.006212, Training Accuracy= 1.00000\n",
            "Optimization Finished!\n",
            "accuracy: 0.8791\n"
          ],
          "name": "stdout"
        }
      ]
    },
    {
      "cell_type": "code",
      "metadata": {
        "id": "TRDkrW1YDyJ-",
        "colab_type": "code",
        "colab": {
          "base_uri": "https://localhost:8080/",
          "height": 34
        },
        "outputId": "af1697fa-e272-4ea4-bd62-d0d038a1db93"
      },
      "source": [
        "tf.reset_default_graph()\n",
        "imported_graph=tf.train.import_meta_graph('result.meta')\n",
        "with tf.Session() as sess:\n",
        "  imported_graph.restore(sess,'./result')\n",
        "  we=sess.run('W0/Initializer/random_uniform/shape:0')\n",
        "  print(we)\n",
        "  #loss_val,acc_val=sess.run([cost,accuracy],feed_dict={'Placeholder:0':x_test,'Placeholder_1:0':y_test})"
      ],
      "execution_count": 77,
      "outputs": [
        {
          "output_type": "stream",
          "text": [
            "[ 3  3  1 32]\n"
          ],
          "name": "stdout"
        }
      ]
    },
    {
      "cell_type": "code",
      "metadata": {
        "id": "QwmPESn0DyKC",
        "colab_type": "code",
        "colab": {}
      },
      "source": [
        "def conv_net_modified(x, weights, biases,dropout):  \n",
        "\n",
        "    # here we call the conv2d function we had defined above and pass the input image x, weights wc1 and bias bc1.\n",
        "    conv1 = conv2d(x, weights['wc1'], biases['bc1'])\n",
        "    print(conv1.shape)\n",
        "    # Max Pooling (down-sampling), this chooses the max value from a 2*2 matrix window and outputs a 14*14 matrix.\n",
        "    conv1 = maxpool2d(conv1, k=2)\n",
        "    print(conv1.shape)\n",
        "    #adding dropout layer\n",
        "    conv1 = tf.layers.dropout(conv1,dropout)\n",
        "    # batch normalization\n",
        "    conv1 = tf.layers.batch_normalization(conv1)\n",
        "\n",
        "    # Convolution Layer\n",
        "    # here we call the conv2d function we had defined above and pass the input image x, weights wc2 and bias bc2.\n",
        "    conv2 = conv2d(conv1, weights['wc2'], biases['bc2'])\n",
        "    print(conv2.shape)\n",
        "    # Max Pooling (down-sampling), this chooses the max value from a 2*2 matrix window and outputs a 7*7 matrix.\n",
        "    conv2 = maxpool2d(conv2, k=2)\n",
        "    print(conv2.shape)\n",
        "    #adding dropout layer\n",
        "    conv2 = tf.layers.dropout(conv2,dropout)\n",
        "    # batch normalization\n",
        "    conv2 = tf.layers.batch_normalization(conv2)\n",
        "    \n",
        "\n",
        "    conv3 = conv2d(conv2, weights['wc3'], biases['bc3'])\n",
        "    print(conv3.shape)\n",
        "    # Max Pooling (down-sampling), this chooses the max value from a 2*2 matrix window and outputs a 4*4.\n",
        "    conv3 = maxpool2d(conv3, k=2)\n",
        "    print(conv3.shape)\n",
        "    #adding dropout layer\n",
        "    conv3 = tf.layers.dropout(conv3,dropout)\n",
        "    # batch normalization\n",
        "    conv3 = tf.layers.batch_normalization(conv3)\n",
        "\n",
        "\n",
        "    # Fully connected layer\n",
        "    # Reshape conv2 output to fit fully connected layer input\n",
        "    fc1 = tf.reshape(conv3, [-1, weights['wd1'].get_shape().as_list()[0]])\n",
        "    print(fc1.shape)\n",
        "    fc1 = tf.add(tf.matmul(fc1, weights['wd1']), biases['bd1'])\n",
        "    print(fc1.shape)\n",
        "    fc1 = tf.nn.relu(fc1)\n",
        "    print(fc1.shape)\n",
        "    # Output, class prediction\n",
        "    # finally we multiply the fully connected layer with the weights and add a bias term. \n",
        "    out = tf.add(tf.matmul(fc1, weights['out']), biases['out'])\n",
        "    return out\n"
      ],
      "execution_count": 0,
      "outputs": []
    },
    {
      "cell_type": "code",
      "metadata": {
        "id": "qYiUYUZp52ic",
        "colab_type": "code",
        "colab": {
          "base_uri": "https://localhost:8080/",
          "height": 173
        },
        "outputId": "41ecf1e2-6a9c-4b58-e743-da8f102dee01"
      },
      "source": [
        "pred_m = conv_net_modified(x, weights, biases,0.2)"
      ],
      "execution_count": 35,
      "outputs": [
        {
          "output_type": "stream",
          "text": [
            "(?, 28, 28, 32)\n",
            "(?, 14, 14, 32)\n",
            "(?, 14, 14, 64)\n",
            "(?, 7, 7, 64)\n",
            "(?, 7, 7, 128)\n",
            "(?, 4, 4, 128)\n",
            "(?, 2048)\n",
            "(?, 128)\n",
            "(?, 128)\n"
          ],
          "name": "stdout"
        }
      ]
    },
    {
      "cell_type": "code",
      "metadata": {
        "id": "tP15srjD6AZS",
        "colab_type": "code",
        "colab": {}
      },
      "source": [
        "cost_m = tf.reduce_mean(tf.nn.softmax_cross_entropy_with_logits(logits=pred_m, labels=y))\n",
        "\n",
        "optimizer_m = tf.train.AdamOptimizer(learning_rate=learning_rate).minimize(cost_m)"
      ],
      "execution_count": 0,
      "outputs": []
    },
    {
      "cell_type": "code",
      "metadata": {
        "id": "saXEuKXCCOQt",
        "colab_type": "code",
        "colab": {}
      },
      "source": [
        "#Here you check whether the index of the maximum value of the predicted image is equal to the actual labelled image. and both will be a column vector.\n",
        "correct_prediction = tf.equal(tf.argmax(pred_m, 1), tf.argmax(y, 1))\n",
        "\n",
        "#calculate accuracy across all the given images and average them out. \n",
        "accuracy_m = tf.reduce_mean(tf.cast(correct_prediction, tf.float32))"
      ],
      "execution_count": 0,
      "outputs": []
    },
    {
      "cell_type": "code",
      "metadata": {
        "id": "jFxxARYQArZm",
        "colab_type": "code",
        "colab": {
          "base_uri": "https://localhost:8080/",
          "height": 538
        },
        "outputId": "a6a3852d-5723-4f47-f6af-ccf063161e4b"
      },
      "source": [
        "iterations = 10\n",
        "with tf.Session() as sess:\n",
        "    sess.run(tf.global_variables_initializer())\n",
        "    \n",
        "    train_loss_modified = []\n",
        "    train_accuracy_modified = []\n",
        "    test_loss_modified = []\n",
        "    test_accuracy_modified = []\n",
        "    saver_modified = tf.train.Saver()\n",
        "    accu_modified = 0\n",
        "    \n",
        "    for i in range(iterations):\n",
        "        for batch in range(m):\n",
        "            x_batch = train_X[batch*batch_size:min((batch+1)*batch_size, len(train_X))]\n",
        "            y_batch = y_train[batch*batch_size:min((batch+1)*batch_size, len(y_train))]\n",
        "            \n",
        "            opt_modified = sess.run(optimizer_m, feed_dict={x:x_batch, y:y_batch})\n",
        "            \n",
        "            loss_m, acc_m = sess.run([cost_m, accuracy_m], feed_dict={x:x_batch, y:y_batch})\n",
        "        \n",
        "        print(\"epoch \" + str(i+1) + \", Loss= \" + \"{:.6f}\".format(loss_m) + \", Training Accuracy = \" + \\\n",
        "             \"{:.5f}\".format(acc_m))\n",
        "        print(\"Optimization Finished!\")\n",
        "        \n",
        "        test_acc_m, valid_loss_m = sess.run([accuracy_m, cost_m], feed_dict={x:x_test, y:y_test})\n",
        "        \n",
        "        train_loss_modified.append(loss_m)\n",
        "        test_loss_modified.append(valid_loss_m)\n",
        "        train_accuracy_modified.append(acc_m)\n",
        "        test_accuracy_modified.append(test_acc_m)\n",
        "        \n",
        "        print(\"Testing Accuracy:\", \"{:.5f}\".format(test_acc_m))\n",
        "        \n",
        "        if(test_acc_m > accu_modified):\n",
        "            accu_modified = test_acc_m\n",
        "            saver_modified.save(sess,'result_modified')"
      ],
      "execution_count": 41,
      "outputs": [
        {
          "output_type": "stream",
          "text": [
            "epoch 1, Loss= 0.266753, Training Accuracy = 0.90500\n",
            "Optimization Finished!\n",
            "Testing Accuracy: 0.05050\n",
            "epoch 2, Loss= 0.249915, Training Accuracy = 0.90500\n",
            "Optimization Finished!\n",
            "Testing Accuracy: 0.14920\n",
            "epoch 3, Loss= 0.255670, Training Accuracy = 0.89000\n",
            "Optimization Finished!\n",
            "Testing Accuracy: 0.46020\n",
            "epoch 4, Loss= 0.187497, Training Accuracy = 0.93500\n",
            "Optimization Finished!\n",
            "Testing Accuracy: 0.67660\n",
            "epoch 5, Loss= 0.160745, Training Accuracy = 0.95500\n",
            "Optimization Finished!\n",
            "Testing Accuracy: 0.74450\n",
            "epoch 6, Loss= 0.120001, Training Accuracy = 0.95500\n",
            "Optimization Finished!\n",
            "Testing Accuracy: 0.79230\n",
            "epoch 7, Loss= 0.114654, Training Accuracy = 0.96000\n",
            "Optimization Finished!\n",
            "Testing Accuracy: 0.81010\n",
            "epoch 8, Loss= 0.102511, Training Accuracy = 0.97000\n",
            "Optimization Finished!\n",
            "Testing Accuracy: 0.82430\n",
            "epoch 9, Loss= 0.095972, Training Accuracy = 0.96500\n",
            "Optimization Finished!\n",
            "Testing Accuracy: 0.82800\n",
            "epoch 10, Loss= 0.073788, Training Accuracy = 0.98000\n",
            "Optimization Finished!\n",
            "Testing Accuracy: 0.81160\n"
          ],
          "name": "stdout"
        }
      ]
    },
    {
      "cell_type": "markdown",
      "metadata": {
        "id": "vxRDvlW9PXH0",
        "colab_type": "text"
      },
      "source": [
        "**Drpout =0.3, Batch Normalization**"
      ]
    },
    {
      "cell_type": "code",
      "metadata": {
        "id": "2otcynGqDT5Q",
        "colab_type": "code",
        "colab": {
          "base_uri": "https://localhost:8080/",
          "height": 173
        },
        "outputId": "24573991-b9b0-48d9-8ecb-df04a5c830d9"
      },
      "source": [
        "pred_m_1 = conv_net_modified(x, weights, biases,0.3)"
      ],
      "execution_count": 44,
      "outputs": [
        {
          "output_type": "stream",
          "text": [
            "(?, 28, 28, 32)\n",
            "(?, 14, 14, 32)\n",
            "(?, 14, 14, 64)\n",
            "(?, 7, 7, 64)\n",
            "(?, 7, 7, 128)\n",
            "(?, 4, 4, 128)\n",
            "(?, 2048)\n",
            "(?, 128)\n",
            "(?, 128)\n"
          ],
          "name": "stdout"
        }
      ]
    },
    {
      "cell_type": "code",
      "metadata": {
        "id": "SNf4LwtZPxIO",
        "colab_type": "code",
        "colab": {}
      },
      "source": [
        "cost_m_1 = tf.reduce_mean(tf.nn.softmax_cross_entropy_with_logits(logits=pred_m_1, labels=y))\n",
        "\n",
        "optimizer_m_1 = tf.train.AdamOptimizer(learning_rate=learning_rate).minimize(cost_m_1)"
      ],
      "execution_count": 0,
      "outputs": []
    },
    {
      "cell_type": "code",
      "metadata": {
        "id": "9sb8u17xP86A",
        "colab_type": "code",
        "colab": {}
      },
      "source": [
        "#Here you check whether the index of the maximum value of the predicted image is equal to the actual labelled image. and both will be a column vector.\n",
        "correct_prediction_m_1 = tf.equal(tf.argmax(pred_m, 1), tf.argmax(y, 1))\n",
        "\n",
        "#calculate accuracy across all the given images and average them out. \n",
        "accuracy_m_1 = tf.reduce_mean(tf.cast(correct_prediction, tf.float32))"
      ],
      "execution_count": 0,
      "outputs": []
    },
    {
      "cell_type": "code",
      "metadata": {
        "id": "WR8wX75jPUOV",
        "colab_type": "code",
        "colab": {
          "base_uri": "https://localhost:8080/",
          "height": 538
        },
        "outputId": "17337b9f-1193-4b7a-e6a7-9745b3114cad"
      },
      "source": [
        "iterations = 10\n",
        "with tf.Session() as sess:\n",
        "    sess.run(tf.global_variables_initializer())\n",
        "    \n",
        "    train_loss_modified = []\n",
        "    train_accuracy_modified = []\n",
        "    test_loss_modified = []\n",
        "    test_accuracy_modified = []\n",
        "    saver_modified = tf.train.Saver()\n",
        "    accu_modified = 0\n",
        "    \n",
        "    for i in range(iterations):\n",
        "        for batch in range(m):\n",
        "            x_batch = train_X[batch*batch_size:min((batch+1)*batch_size, len(train_X))]\n",
        "            y_batch = y_train[batch*batch_size:min((batch+1)*batch_size, len(y_train))]\n",
        "            \n",
        "            opt_modified = sess.run(optimizer_m_1, feed_dict={x:x_batch, y:y_batch})\n",
        "            \n",
        "            loss_m, acc_m = sess.run([cost_m_1, accuracy_m_1], feed_dict={x:x_batch, y:y_batch})\n",
        "        \n",
        "        print(\"epoch \" + str(i+1) + \", Loss= \" + \"{:.6f}\".format(loss_m) + \", Training Accuracy = \" + \\\n",
        "             \"{:.5f}\".format(acc_m))\n",
        "        print(\"Optimization Finished!\")\n",
        "        \n",
        "        test_acc_m, valid_loss_m = sess.run([accuracy_m_1, cost_m_1], feed_dict={x:x_test, y:y_test})\n",
        "        \n",
        "        train_loss_modified.append(loss_m)\n",
        "        test_loss_modified.append(valid_loss_m)\n",
        "        train_accuracy_modified.append(acc_m)\n",
        "        test_accuracy_modified.append(test_acc_m)\n",
        "        \n",
        "        print(\"Testing Accuracy:\", \"{:.5f}\".format(test_acc_m))\n",
        "        \n",
        "        if(test_acc_m > accu_modified):\n",
        "            accu_modified = test_acc_m\n",
        "            saver_modified.save(sess,'result_modified_1')"
      ],
      "execution_count": 48,
      "outputs": [
        {
          "output_type": "stream",
          "text": [
            "epoch 1, Loss= 0.266009, Training Accuracy = 0.90000\n",
            "Optimization Finished!\n",
            "Testing Accuracy: 0.09040\n",
            "epoch 2, Loss= 0.224487, Training Accuracy = 0.91500\n",
            "Optimization Finished!\n",
            "Testing Accuracy: 0.18600\n",
            "epoch 3, Loss= 0.182012, Training Accuracy = 0.94000\n",
            "Optimization Finished!\n",
            "Testing Accuracy: 0.31500\n",
            "epoch 4, Loss= 0.198215, Training Accuracy = 0.93000\n",
            "Optimization Finished!\n",
            "Testing Accuracy: 0.61630\n",
            "epoch 5, Loss= 0.176522, Training Accuracy = 0.93500\n",
            "Optimization Finished!\n",
            "Testing Accuracy: 0.69860\n",
            "epoch 6, Loss= 0.150037, Training Accuracy = 0.95000\n",
            "Optimization Finished!\n",
            "Testing Accuracy: 0.72260\n",
            "epoch 7, Loss= 0.122166, Training Accuracy = 0.96000\n",
            "Optimization Finished!\n",
            "Testing Accuracy: 0.74810\n",
            "epoch 8, Loss= 0.093452, Training Accuracy = 0.96000\n",
            "Optimization Finished!\n",
            "Testing Accuracy: 0.76650\n",
            "epoch 9, Loss= 0.095329, Training Accuracy = 0.95000\n",
            "Optimization Finished!\n",
            "Testing Accuracy: 0.74660\n",
            "epoch 10, Loss= 0.084302, Training Accuracy = 0.95000\n",
            "Optimization Finished!\n",
            "Testing Accuracy: 0.72800\n"
          ],
          "name": "stdout"
        }
      ]
    },
    {
      "cell_type": "code",
      "metadata": {
        "id": "8w5qZOsPQjjt",
        "colab_type": "code",
        "colab": {}
      },
      "source": [
        ""
      ],
      "execution_count": 0,
      "outputs": []
    }
  ]
}